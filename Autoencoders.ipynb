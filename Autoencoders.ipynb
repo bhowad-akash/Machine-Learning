{
  "nbformat": 4,
  "nbformat_minor": 0,
  "metadata": {
    "colab": {
      "provenance": [],
      "authorship_tag": "ABX9TyOGAQpQvlx2nieWQJsnsGUe",
      "include_colab_link": true
    },
    "kernelspec": {
      "name": "python3",
      "display_name": "Python 3"
    },
    "language_info": {
      "name": "python"
    }
  },
  "cells": [
    {
      "cell_type": "markdown",
      "metadata": {
        "id": "view-in-github",
        "colab_type": "text"
      },
      "source": [
        "<a href=\"https://colab.research.google.com/github/bhowad-akash/Machine-Learning/blob/main/Autoencoders.ipynb\" target=\"_parent\"><img src=\"https://colab.research.google.com/assets/colab-badge.svg\" alt=\"Open In Colab\"/></a>"
      ]
    },
    {
      "cell_type": "markdown",
      "source": [
        "Autoencoders using Fashion MNIST Dataset"
      ],
      "metadata": {
        "id": "2Keq6g6N02Y5"
      }
    },
    {
      "cell_type": "code",
      "execution_count": 26,
      "metadata": {
        "id": "jnYx8OHfzswV"
      },
      "outputs": [],
      "source": [
        "#import necessary libraries\n",
        "import keras"
      ]
    },
    {
      "cell_type": "code",
      "source": [
        "#Loading the image data\n",
        "fashion_mnist = keras.datasets.fashion_mnist\n",
        "(x_train, y_train), (x_test, y_test) = fashion_mnist.load_data()\n",
        "class_names = [\"T-shirt/top\", \"Trouser\", \"Pullover\", \"Dress\", \"Coat\", \"Sandal\", \"Shirt\", \"Sneaker\", \"Bag\", \"Ankle boot\"]"
      ],
      "metadata": {
        "id": "GzqK7FhI1GpX"
      },
      "execution_count": 27,
      "outputs": []
    },
    {
      "cell_type": "code",
      "source": [
        "'''The images in the dataset have the pixel values ranging from 0-255.\n",
        "Thus, mapping the intensities from [0-255] to 0.0 to 1.0'''\n",
        "\n",
        "x_train = x_train / 255.0\n",
        "x_test = x_test / 255.0\n",
        "\n",
        "encoder = keras.models.Sequential([\n",
        "    keras.layers.Flatten(input_shape = [28,28]),\n",
        "    keras.layers.Dense(100, activation='selu'),\n",
        "    keras.layers.Dense(30, activation='selu')\n",
        "])\n",
        "\n",
        "decoder = keras.models.Sequential([\n",
        "    keras.layers.Dense(100, activation='selu', input_shape=[30]),\n",
        "    keras.layers.Dense(28*28, activation='sigmoid'),\n",
        "    keras.layers.Reshape([28, 28])\n",
        "])"
      ],
      "metadata": {
        "id": "QOj7Lune6Ho_"
      },
      "execution_count": 28,
      "outputs": []
    },
    {
      "cell_type": "markdown",
      "source": [
        "The encoder transforms the 28x28 input image into a 30-dimensional latent representation.\n",
        "The decoder reconstructs the 30-dimensional latent representation back to a 28x28 image."
      ],
      "metadata": {
        "id": "b_o70YCuCMkj"
      }
    },
    {
      "cell_type": "code",
      "source": [
        "#Combining the Encoder and Decoder\n",
        "model = keras.models.Sequential([encoder, decoder])"
      ],
      "metadata": {
        "id": "Gn2Uj2r0_MDv"
      },
      "execution_count": 29,
      "outputs": []
    },
    {
      "cell_type": "code",
      "source": [
        "'''binary_crossentropy is the common loss function for auto encoders,\n",
        "especially when output values are in the range [0,1].\n",
        "\n",
        "The learning rate is a hyperparameter that determines the step size at each iteration\n",
        "while moving towards a minimum of the loss function'''\n",
        "\n",
        "model.compile(loss='binary_crossentropy', optimizer=keras.optimizers.SGD(learning_rate=1.5))"
      ],
      "metadata": {
        "id": "r-BWz2LdBfBS"
      },
      "execution_count": 30,
      "outputs": []
    },
    {
      "cell_type": "code",
      "source": [
        "'''During training, both the input and output data are x_train. This is because, in an autoencoder, the model learns to reconstruct the input data.\n",
        "Therefore, the target output is the same as the input.'''\n",
        "\n",
        "model_history = model.fit(x_train, x_train, epochs=10, validation_split=0.1)"
      ],
      "metadata": {
        "colab": {
          "base_uri": "https://localhost:8080/"
        },
        "id": "sE9PYpDnBhPv",
        "outputId": "a5c63d1c-ee14-49b4-c690-a7381529da39"
      },
      "execution_count": 31,
      "outputs": [
        {
          "output_type": "stream",
          "name": "stdout",
          "text": [
            "Epoch 1/10\n",
            "1688/1688 [==============================] - 10s 5ms/step - loss: 0.3399 - val_loss: 0.3164\n",
            "Epoch 2/10\n",
            "1688/1688 [==============================] - 10s 6ms/step - loss: 0.3075 - val_loss: 0.3059\n",
            "Epoch 3/10\n",
            "1688/1688 [==============================] - 10s 6ms/step - loss: 0.3017 - val_loss: 0.3027\n",
            "Epoch 4/10\n",
            "1688/1688 [==============================] - 10s 6ms/step - loss: 0.2985 - val_loss: 0.2989\n",
            "Epoch 5/10\n",
            "1688/1688 [==============================] - 9s 5ms/step - loss: 0.2961 - val_loss: 0.3046\n",
            "Epoch 6/10\n",
            "1688/1688 [==============================] - 10s 6ms/step - loss: 0.2943 - val_loss: 0.2969\n",
            "Epoch 7/10\n",
            "1688/1688 [==============================] - 10s 6ms/step - loss: 0.2927 - val_loss: 0.2948\n",
            "Epoch 8/10\n",
            "1688/1688 [==============================] - 9s 5ms/step - loss: 0.2914 - val_loss: 0.2930\n",
            "Epoch 9/10\n",
            "1688/1688 [==============================] - 10s 6ms/step - loss: 0.2904 - val_loss: 0.2921\n",
            "Epoch 10/10\n",
            "1688/1688 [==============================] - 10s 6ms/step - loss: 0.2895 - val_loss: 0.2917\n"
          ]
        }
      ]
    },
    {
      "cell_type": "code",
      "source": [
        "#Visualise results of Autoencoder model by comparing original test images with the reconstructed images\n",
        "import matplotlib.pyplot as plt\n",
        "\n",
        "#Defining a function to plot images\n",
        "def plot_image(image):\n",
        "  plt.imshow(image, cmap=\"binary\")\n",
        "  plt.axis(\"off\")"
      ],
      "metadata": {
        "id": "ts8ULp6OCWyJ"
      },
      "execution_count": 32,
      "outputs": []
    },
    {
      "cell_type": "code",
      "source": [
        "#Visualising original and Reconstructed images\n",
        "\n",
        "n_images = 5              #No. of images to visualise\n",
        "reconstructions = model.predict(x_test[:n_images])  #Using autoencoder to predict (reconstruct) first 5 images from the test set\n",
        "fig = plt.figure(figsize=(n_images*1.5, 3))    #Setting the figure size. Width=No. of images, Height = 3\n",
        "for idx in range(n_images):\n",
        "  plt.subplot(2, n_images, 1+idx)    #Creates subplot for original image, 2 rows and n_images = 5 columns. The position of the subplot is determined by 1+idx for the first row.\n",
        "  plot_image(x_test[idx])\n",
        "  plt.subplot(2, n_images, 1+n_images+idx)    #Creates subplot for reconstructed image, 2 rows and n_images = 5 columns\n",
        "  plot_image(reconstructions[idx])"
      ],
      "metadata": {
        "colab": {
          "base_uri": "https://localhost:8080/",
          "height": 280
        },
        "id": "1u2CshmlDfp5",
        "outputId": "8a0e440c-7781-4947-f345-22b490be1de0"
      },
      "execution_count": 33,
      "outputs": [
        {
          "output_type": "stream",
          "name": "stdout",
          "text": [
            "1/1 [==============================] - 0s 93ms/step\n"
          ]
        },
        {
          "output_type": "display_data",
          "data": {
            "text/plain": [
              "<Figure size 750x300 with 10 Axes>"
            ],
            "image/png": "[encoded data removed]"
          },
          "metadata": {}
        }
      ]
    }
  ]
}